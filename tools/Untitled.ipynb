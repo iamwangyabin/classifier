{
 "cells": [
  {
   "cell_type": "code",
   "execution_count": 1,
   "id": "e024067e",
   "metadata": {},
   "outputs": [],
   "source": [
    "import pyarrow.parquet as pq\n",
    "import torch\n",
    "from torch.utils.data import Dataset, DataLoader\n",
    "import pyarrow.parquet as pq\n",
    "import numpy as np\n",
    "\n"
   ]
  },
  {
   "cell_type": "code",
   "execution_count": 17,
   "id": "e4cc5b7b",
   "metadata": {},
   "outputs": [],
   "source": [
    "parquet_file = pq.ParquetFile(r'C:\\Users\\yw26g23\\OneDrive - University of Southampton\\Documents\\clipL14openai_next_to_last_DIF_biggan_features.parquet')"
   ]
  },
  {
   "cell_type": "code",
   "execution_count": 18,
   "id": "4f5c20fb",
   "metadata": {},
   "outputs": [],
   "source": [
    "table = parquet_file.read_row_group(0, columns=['label', 'cls_tokens'])"
   ]
  },
  {
   "cell_type": "code",
   "execution_count": 19,
   "id": "102c00e0",
   "metadata": {
    "scrolled": true
   },
   "outputs": [
    {
     "data": {
      "text/plain": [
       "pyarrow.Table\n",
       "label: int32\n",
       "cls_tokens: list<element: float>\n",
       "  child 0, element: float\n",
       "----\n",
       "label: [[0,0,0,0,0,...,1,1,1,1,1]]\n",
       "cls_tokens: [[[-1.1681608,0.19352359,0.5204424,1.2027756,-0.35889247,...,1.6633898,0.23680623,1.6374559,-2.804941,-0.28718147],[-1.2642882,-1.1573224,0.91597474,1.1131858,2.3943446,...,0.3070158,1.1444415,-0.2189383,-1.9486266,0.5889146],...,[-0.6266313,2.1616921,-0.46929473,1.0569466,0.9006609,...,-0.64333814,-0.5467068,0.66277295,0.4287605,0.5618111],[0.125761,1.8523417,0.17542057,1.1247996,0.9176147,...,-0.47918043,-0.63305724,1.1806405,-1.0140327,0.04103627]]]"
      ]
     },
     "execution_count": 19,
     "metadata": {},
     "output_type": "execute_result"
    }
   ],
   "source": [
    "table"
   ]
  },
  {
   "cell_type": "code",
   "execution_count": 2,
   "id": "d80ccce8",
   "metadata": {},
   "outputs": [],
   "source": [
    "class ParquetDataset(Dataset):\n",
    "    def __init__(self, parquet_file_path):\n",
    "        self.parquet_file_path = parquet_file_path\n",
    "        parquet_file = pq.ParquetFile(parquet_file_path)\n",
    "        self.num_rows = parquet_file.metadata.num_rows\n",
    "        print('finish')\n",
    "        self.table = parquet_file.read_row_group(0, columns=['label', 'cls_tokens'])\n",
    "        print('finish')\n",
    "    def __len__(self):\n",
    "        return self.num_rows\n",
    "\n",
    "    def __getitem__(self, idx):\n",
    "        label = self.table['label'][idx].as_py()\n",
    "        \n",
    "        cls_tokens = self.table['cls_tokens'][idx].values.to_numpy()\n",
    "#         cls_tokens = np.stack(cls_tokens)  # Convert list of arrays to 2D numpy array\n",
    "        \n",
    "        return {\n",
    "            'label': torch.tensor(label, dtype=torch.long),\n",
    "            'cls_tokens': torch.tensor(cls_tokens, dtype=torch.float)\n",
    "        }\n",
    "\n",
    "def create_dataloader(parquet_file, batch_size=32, shuffle=True, num_workers=0):\n",
    "    dataset = ParquetDataset(parquet_file)\n",
    "    return DataLoader(dataset, batch_size=batch_size, shuffle=shuffle, num_workers=num_workers)\n"
   ]
  },
  {
   "cell_type": "code",
   "execution_count": 8,
   "id": "bf49b387",
   "metadata": {},
   "outputs": [
    {
     "name": "stdout",
     "output_type": "stream",
     "text": [
      "finish\n",
      "finish\n",
      "Batch labels shape: torch.Size([32])\n",
      "Batch cls_tokens shape: torch.Size([32, 1024])\n",
      "Batch labels shape: torch.Size([32])\n",
      "Batch cls_tokens shape: torch.Size([32, 1024])\n",
      "Batch labels shape: torch.Size([32])\n",
      "Batch cls_tokens shape: torch.Size([32, 1024])\n",
      "Batch labels shape: torch.Size([32])\n",
      "Batch cls_tokens shape: torch.Size([32, 1024])\n",
      "Batch labels shape: torch.Size([32])\n",
      "Batch cls_tokens shape: torch.Size([32, 1024])\n",
      "Batch labels shape: torch.Size([32])\n",
      "Batch cls_tokens shape: torch.Size([32, 1024])\n",
      "Batch labels shape: torch.Size([32])\n",
      "Batch cls_tokens shape: torch.Size([32, 1024])\n",
      "Batch labels shape: torch.Size([32])\n",
      "Batch cls_tokens shape: torch.Size([32, 1024])\n",
      "Batch labels shape: torch.Size([32])\n",
      "Batch cls_tokens shape: torch.Size([32, 1024])\n",
      "Batch labels shape: torch.Size([32])\n",
      "Batch cls_tokens shape: torch.Size([32, 1024])\n",
      "Batch labels shape: torch.Size([32])\n",
      "Batch cls_tokens shape: torch.Size([32, 1024])\n",
      "Batch labels shape: torch.Size([32])\n",
      "Batch cls_tokens shape: torch.Size([32, 1024])\n",
      "Batch labels shape: torch.Size([32])\n",
      "Batch cls_tokens shape: torch.Size([32, 1024])\n",
      "Batch labels shape: torch.Size([32])\n",
      "Batch cls_tokens shape: torch.Size([32, 1024])\n",
      "Batch labels shape: torch.Size([32])\n",
      "Batch cls_tokens shape: torch.Size([32, 1024])\n",
      "Batch labels shape: torch.Size([32])\n",
      "Batch cls_tokens shape: torch.Size([32, 1024])\n",
      "Batch labels shape: torch.Size([32])\n",
      "Batch cls_tokens shape: torch.Size([32, 1024])\n",
      "Batch labels shape: torch.Size([32])\n",
      "Batch cls_tokens shape: torch.Size([32, 1024])\n",
      "Batch labels shape: torch.Size([32])\n",
      "Batch cls_tokens shape: torch.Size([32, 1024])\n",
      "Batch labels shape: torch.Size([32])\n",
      "Batch cls_tokens shape: torch.Size([32, 1024])\n",
      "Batch labels shape: torch.Size([32])\n",
      "Batch cls_tokens shape: torch.Size([32, 1024])\n",
      "Batch labels shape: torch.Size([32])\n",
      "Batch cls_tokens shape: torch.Size([32, 1024])\n",
      "Batch labels shape: torch.Size([32])\n",
      "Batch cls_tokens shape: torch.Size([32, 1024])\n",
      "Batch labels shape: torch.Size([32])\n",
      "Batch cls_tokens shape: torch.Size([32, 1024])\n",
      "Batch labels shape: torch.Size([32])\n",
      "Batch cls_tokens shape: torch.Size([32, 1024])\n",
      "Batch labels shape: torch.Size([32])\n",
      "Batch cls_tokens shape: torch.Size([32, 1024])\n",
      "Batch labels shape: torch.Size([32])\n",
      "Batch cls_tokens shape: torch.Size([32, 1024])\n",
      "Batch labels shape: torch.Size([32])\n",
      "Batch cls_tokens shape: torch.Size([32, 1024])\n",
      "Batch labels shape: torch.Size([32])\n",
      "Batch cls_tokens shape: torch.Size([32, 1024])\n",
      "Batch labels shape: torch.Size([32])\n",
      "Batch cls_tokens shape: torch.Size([32, 1024])\n",
      "Batch labels shape: torch.Size([32])\n",
      "Batch cls_tokens shape: torch.Size([32, 1024])\n",
      "Batch labels shape: torch.Size([32])\n",
      "Batch cls_tokens shape: torch.Size([32, 1024])\n",
      "Batch labels shape: torch.Size([32])\n",
      "Batch cls_tokens shape: torch.Size([32, 1024])\n",
      "Batch labels shape: torch.Size([32])\n",
      "Batch cls_tokens shape: torch.Size([32, 1024])\n",
      "Batch labels shape: torch.Size([32])\n",
      "Batch cls_tokens shape: torch.Size([32, 1024])\n",
      "Batch labels shape: torch.Size([32])\n",
      "Batch cls_tokens shape: torch.Size([32, 1024])\n",
      "Batch labels shape: torch.Size([32])\n",
      "Batch cls_tokens shape: torch.Size([32, 1024])\n",
      "Batch labels shape: torch.Size([32])\n",
      "Batch cls_tokens shape: torch.Size([32, 1024])\n",
      "Batch labels shape: torch.Size([32])\n",
      "Batch cls_tokens shape: torch.Size([32, 1024])\n",
      "Batch labels shape: torch.Size([32])\n",
      "Batch cls_tokens shape: torch.Size([32, 1024])\n",
      "Batch labels shape: torch.Size([32])\n",
      "Batch cls_tokens shape: torch.Size([32, 1024])\n",
      "Batch labels shape: torch.Size([32])\n",
      "Batch cls_tokens shape: torch.Size([32, 1024])\n",
      "Batch labels shape: torch.Size([32])\n",
      "Batch cls_tokens shape: torch.Size([32, 1024])\n",
      "Batch labels shape: torch.Size([32])\n",
      "Batch cls_tokens shape: torch.Size([32, 1024])\n",
      "Batch labels shape: torch.Size([32])\n",
      "Batch cls_tokens shape: torch.Size([32, 1024])\n",
      "Batch labels shape: torch.Size([32])\n",
      "Batch cls_tokens shape: torch.Size([32, 1024])\n",
      "Batch labels shape: torch.Size([32])\n",
      "Batch cls_tokens shape: torch.Size([32, 1024])\n",
      "Batch labels shape: torch.Size([32])\n",
      "Batch cls_tokens shape: torch.Size([32, 1024])\n",
      "Batch labels shape: torch.Size([32])\n",
      "Batch cls_tokens shape: torch.Size([32, 1024])\n",
      "Batch labels shape: torch.Size([32])\n",
      "Batch cls_tokens shape: torch.Size([32, 1024])\n",
      "Batch labels shape: torch.Size([32])\n",
      "Batch cls_tokens shape: torch.Size([32, 1024])\n",
      "Batch labels shape: torch.Size([32])\n",
      "Batch cls_tokens shape: torch.Size([32, 1024])\n",
      "Batch labels shape: torch.Size([32])\n",
      "Batch cls_tokens shape: torch.Size([32, 1024])\n",
      "Batch labels shape: torch.Size([32])\n",
      "Batch cls_tokens shape: torch.Size([32, 1024])\n",
      "Batch labels shape: torch.Size([32])\n",
      "Batch cls_tokens shape: torch.Size([32, 1024])\n",
      "Batch labels shape: torch.Size([32])\n",
      "Batch cls_tokens shape: torch.Size([32, 1024])\n",
      "Batch labels shape: torch.Size([32])\n",
      "Batch cls_tokens shape: torch.Size([32, 1024])\n",
      "Batch labels shape: torch.Size([32])\n",
      "Batch cls_tokens shape: torch.Size([32, 1024])\n",
      "Batch labels shape: torch.Size([32])\n",
      "Batch cls_tokens shape: torch.Size([32, 1024])\n",
      "Batch labels shape: torch.Size([32])\n",
      "Batch cls_tokens shape: torch.Size([32, 1024])\n",
      "Batch labels shape: torch.Size([32])\n",
      "Batch cls_tokens shape: torch.Size([32, 1024])\n",
      "Batch labels shape: torch.Size([32])\n",
      "Batch cls_tokens shape: torch.Size([32, 1024])\n",
      "Batch labels shape: torch.Size([32])\n",
      "Batch cls_tokens shape: torch.Size([32, 1024])\n",
      "Batch labels shape: torch.Size([32])\n",
      "Batch cls_tokens shape: torch.Size([32, 1024])\n",
      "Batch labels shape: torch.Size([32])\n",
      "Batch cls_tokens shape: torch.Size([32, 1024])\n",
      "Batch labels shape: torch.Size([32])\n",
      "Batch cls_tokens shape: torch.Size([32, 1024])\n",
      "Batch labels shape: torch.Size([32])\n",
      "Batch cls_tokens shape: torch.Size([32, 1024])\n",
      "Batch labels shape: torch.Size([32])\n",
      "Batch cls_tokens shape: torch.Size([32, 1024])\n",
      "Batch labels shape: torch.Size([32])\n",
      "Batch cls_tokens shape: torch.Size([32, 1024])\n",
      "Batch labels shape: torch.Size([32])\n",
      "Batch cls_tokens shape: torch.Size([32, 1024])\n",
      "Batch labels shape: torch.Size([32])\n",
      "Batch cls_tokens shape: torch.Size([32, 1024])\n",
      "Batch labels shape: torch.Size([32])\n",
      "Batch cls_tokens shape: torch.Size([32, 1024])\n",
      "Batch labels shape: torch.Size([32])\n",
      "Batch cls_tokens shape: torch.Size([32, 1024])\n",
      "Batch labels shape: torch.Size([32])\n",
      "Batch cls_tokens shape: torch.Size([32, 1024])\n",
      "Batch labels shape: torch.Size([32])\n",
      "Batch cls_tokens shape: torch.Size([32, 1024])\n",
      "Batch labels shape: torch.Size([32])\n",
      "Batch cls_tokens shape: torch.Size([32, 1024])\n",
      "Batch labels shape: torch.Size([32])\n",
      "Batch cls_tokens shape: torch.Size([32, 1024])\n",
      "Batch labels shape: torch.Size([32])\n",
      "Batch cls_tokens shape: torch.Size([32, 1024])\n",
      "Batch labels shape: torch.Size([32])\n",
      "Batch cls_tokens shape: torch.Size([32, 1024])\n",
      "Batch labels shape: torch.Size([32])\n",
      "Batch cls_tokens shape: torch.Size([32, 1024])\n",
      "Batch labels shape: torch.Size([32])\n",
      "Batch cls_tokens shape: torch.Size([32, 1024])\n",
      "Batch labels shape: torch.Size([32])\n",
      "Batch cls_tokens shape: torch.Size([32, 1024])\n",
      "Batch labels shape: torch.Size([32])\n",
      "Batch cls_tokens shape: torch.Size([32, 1024])\n",
      "Batch labels shape: torch.Size([32])\n",
      "Batch cls_tokens shape: torch.Size([32, 1024])\n",
      "Batch labels shape: torch.Size([32])\n",
      "Batch cls_tokens shape: torch.Size([32, 1024])\n",
      "Batch labels shape: torch.Size([32])\n",
      "Batch cls_tokens shape: torch.Size([32, 1024])\n",
      "Batch labels shape: torch.Size([32])\n",
      "Batch cls_tokens shape: torch.Size([32, 1024])\n",
      "Batch labels shape: torch.Size([32])\n",
      "Batch cls_tokens shape: torch.Size([32, 1024])\n",
      "Batch labels shape: torch.Size([32])\n",
      "Batch cls_tokens shape: torch.Size([32, 1024])\n",
      "Batch labels shape: torch.Size([32])\n",
      "Batch cls_tokens shape: torch.Size([32, 1024])\n",
      "Batch labels shape: torch.Size([32])\n",
      "Batch cls_tokens shape: torch.Size([32, 1024])\n",
      "Batch labels shape: torch.Size([32])\n",
      "Batch cls_tokens shape: torch.Size([32, 1024])\n",
      "Batch labels shape: torch.Size([32])\n",
      "Batch cls_tokens shape: torch.Size([32, 1024])\n",
      "finish\n"
     ]
    }
   ],
   "source": [
    "dataloader = create_dataloader(r'C:\\Users\\yw26g23\\OneDrive - University of Southampton\\Documents\\clipL14openai_next_to_last_DIF_biggan_features.parquet')\n",
    "\n",
    "# Sample usage\n",
    "for batch in dataloader:\n",
    "    labels = batch['label']\n",
    "    cls_tokens = batch['cls_tokens']\n",
    "    print(f\"Batch labels shape: {labels.shape}\")\n",
    "    print(f\"Batch cls_tokens shape: {cls_tokens.shape}\")\n"
   ]
  },
  {
   "cell_type": "code",
   "execution_count": 4,
   "id": "0748a33e",
   "metadata": {},
   "outputs": [
    {
     "data": {
      "text/plain": [
       "tensor([1, 0, 0, 0, 0, 0, 1, 1, 1, 1, 1, 1, 0, 0, 1, 1, 1, 1, 1, 1, 0, 0, 1, 0,\n",
       "        0, 0, 0, 1, 1, 1, 1, 1])"
      ]
     },
     "execution_count": 4,
     "metadata": {},
     "output_type": "execute_result"
    }
   ],
   "source": [
    "labels"
   ]
  },
  {
   "cell_type": "code",
   "execution_count": 6,
   "id": "52e5f775",
   "metadata": {},
   "outputs": [
    {
     "data": {
      "text/plain": [
       "torch.Size([32, 1024])"
      ]
     },
     "execution_count": 6,
     "metadata": {},
     "output_type": "execute_result"
    }
   ],
   "source": [
    "cls_tokens.shape"
   ]
  },
  {
   "cell_type": "code",
   "execution_count": null,
   "id": "35c5f6db",
   "metadata": {},
   "outputs": [],
   "source": []
  },
  {
   "cell_type": "code",
   "execution_count": null,
   "id": "1674b611",
   "metadata": {},
   "outputs": [],
   "source": []
  },
  {
   "cell_type": "code",
   "execution_count": null,
   "id": "163d1ee1",
   "metadata": {},
   "outputs": [],
   "source": []
  },
  {
   "cell_type": "code",
   "execution_count": null,
   "id": "b121d160",
   "metadata": {},
   "outputs": [],
   "source": []
  },
  {
   "cell_type": "code",
   "execution_count": null,
   "id": "310f4135",
   "metadata": {},
   "outputs": [],
   "source": []
  },
  {
   "cell_type": "code",
   "execution_count": null,
   "id": "3d0a0173",
   "metadata": {},
   "outputs": [],
   "source": []
  },
  {
   "cell_type": "code",
   "execution_count": null,
   "id": "f03b4ef1",
   "metadata": {},
   "outputs": [],
   "source": []
  },
  {
   "cell_type": "code",
   "execution_count": null,
   "id": "4dfcb8cc",
   "metadata": {},
   "outputs": [],
   "source": []
  }
 ],
 "metadata": {
  "kernelspec": {
   "display_name": "Python 3 (ipykernel)",
   "language": "python",
   "name": "python3"
  },
  "language_info": {
   "codemirror_mode": {
    "name": "ipython",
    "version": 3
   },
   "file_extension": ".py",
   "mimetype": "text/x-python",
   "name": "python",
   "nbconvert_exporter": "python",
   "pygments_lexer": "ipython3",
   "version": "3.11.4"
  }
 },
 "nbformat": 4,
 "nbformat_minor": 5
}
